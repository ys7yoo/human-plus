{
 "cells": [
  {
   "cell_type": "markdown",
   "metadata": {},
   "source": [
    "# network analysis\n"
   ]
  },
  {
   "cell_type": "markdown",
   "metadata": {},
   "source": [
    "## First, load channel info."
   ]
  },
  {
   "cell_type": "code",
   "execution_count": 7,
   "metadata": {},
   "outputs": [
    {
     "name": "stdout",
     "output_type": "stream",
     "text": [
      "{1: 'MidFr', 2: 'MidFr', 3: 'MidFr', 4: 'MidFr', 5: 'SupFr', 6: 'SupFr', 7: 'Limb', 8: 'Limb', 9: 'Limb', 10: 'Limb', 11: 'Limb', 12: 'HPC', 13: 'MidTemp', 14: 'MidTemp', 30: 'PreCent', 31: 'PreCent', 32: 'PreCent', 25: 'PostCent', 26: 'PostCent', 27: 'PostCent', 28: 'PostCent', 29: 'PostCent', 23: 'SupMar', 24: 'SupMar', 16: 'SupTemp', 17: 'SupTemp', 20: 'SupTemp', 21: 'SupTemp', 22: 'SupTemp', 15: 'MidTemp', 18: 'MidTemp', 19: 'MidTemp', 36: 'MidTemp', 33: 'InfTemp', 34: 'InfTemp', 35: 'InfTemp', 37: 'ParaHPC', 38: 'ParaHPC', 39: 'OciTemp', 40: 'OciTemp', 41: 'TempPole', 42: 'TempPole'}\n"
     ]
    }
   ],
   "source": [
    "# load channel info data\n",
    "from data import channel\n",
    "\n",
    "dictChannelLabel = channel.loadChannelInfo('data/sub1_channel.csv')\n",
    "print(dictChannelLabel)"
   ]
  },
  {
   "cell_type": "code",
   "execution_count": 8,
   "metadata": {},
   "outputs": [
    {
     "data": {
      "text/plain": [
       "'MidFr'"
      ]
     },
     "execution_count": 8,
     "metadata": {},
     "output_type": "execute_result"
    }
   ],
   "source": [
    "# to use \n",
    "dictChannelLabel[1]"
   ]
  },
  {
   "cell_type": "code",
   "execution_count": null,
   "metadata": {},
   "outputs": [],
   "source": []
  }
 ],
 "metadata": {
  "kernelspec": {
   "display_name": "Python 3",
   "language": "python",
   "name": "python3"
  },
  "language_info": {
   "codemirror_mode": {
    "name": "ipython",
    "version": 3
   },
   "file_extension": ".py",
   "mimetype": "text/x-python",
   "name": "python",
   "nbconvert_exporter": "python",
   "pygments_lexer": "ipython3",
   "version": "3.6.4"
  }
 },
 "nbformat": 4,
 "nbformat_minor": 2
}
