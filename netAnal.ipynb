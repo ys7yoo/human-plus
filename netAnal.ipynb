{
 "cells": [
  {
   "cell_type": "markdown",
   "metadata": {},
   "source": [
    "# network analysis\n"
   ]
  },
  {
   "cell_type": "markdown",
   "metadata": {},
   "source": [
    "## First, load channel info."
   ]
  },
  {
   "cell_type": "code",
   "execution_count": 1,
   "metadata": {},
   "outputs": [
    {
     "name": "stderr",
     "output_type": "stream",
     "text": [
      "/opt/local/Library/Frameworks/Python.framework/Versions/3.6/lib/python3.6/importlib/_bootstrap.py:219: RuntimeWarning: numpy.dtype size changed, may indicate binary incompatibility. Expected 96, got 88\n",
      "  return f(*args, **kwds)\n",
      "/opt/local/Library/Frameworks/Python.framework/Versions/3.6/lib/python3.6/importlib/_bootstrap.py:219: RuntimeWarning: numpy.dtype size changed, may indicate binary incompatibility. Expected 96, got 88\n",
      "  return f(*args, **kwds)\n"
     ]
    },
    {
     "name": "stdout",
     "output_type": "stream",
     "text": [
      "{1: 'MidFr', 2: 'MidFr', 3: 'MidFr', 4: 'MidFr', 5: 'SupFr', 6: 'SupFr', 7: 'Limb', 8: 'Limb', 9: 'Limb', 10: 'Limb', 11: 'Limb', 12: 'HPC', 13: 'MidTemp', 14: 'MidTemp', 30: 'PreCent', 31: 'PreCent', 32: 'PreCent', 25: 'PostCent', 26: 'PostCent', 27: 'PostCent', 28: 'PostCent', 29: 'PostCent', 23: 'SupMar', 24: 'SupMar', 16: 'SupTemp', 17: 'SupTemp', 20: 'SupTemp', 21: 'SupTemp', 22: 'SupTemp', 15: 'MidTemp', 18: 'MidTemp', 19: 'MidTemp', 36: 'MidTemp', 33: 'InfTemp', 34: 'InfTemp', 35: 'InfTemp', 37: 'ParaHPC', 38: 'ParaHPC', 39: 'OciTemp', 40: 'OciTemp', 41: 'TempPole', 42: 'TempPole'}\n"
     ]
    }
   ],
   "source": [
    "# load channel info data\n",
    "from data import channel\n",
    "\n",
    "dictChannelLabel = channel.loadChannelInfo('data/sub1_channel.csv')\n",
    "print(dictChannelLabel)"
   ]
  },
  {
   "cell_type": "code",
   "execution_count": 2,
   "metadata": {},
   "outputs": [
    {
     "data": {
      "text/plain": [
       "'MidFr'"
      ]
     },
     "execution_count": 2,
     "metadata": {},
     "output_type": "execute_result"
    }
   ],
   "source": [
    "# to use \n",
    "dictChannelLabel[1]"
   ]
  },
  {
   "cell_type": "code",
   "execution_count": 3,
   "metadata": {},
   "outputs": [
    {
     "data": {
      "text/plain": [
       "{'MidFr': [1, 2, 3, 4],\n",
       " 'SupFr': [5, 6],\n",
       " 'Limb': [7, 8, 9, 10, 11],\n",
       " 'HPC': [12],\n",
       " 'MidTemp': [13, 14, 15, 18, 19, 36],\n",
       " 'PreCent': [30, 31, 32],\n",
       " 'PostCent': [25, 26, 27, 28, 29],\n",
       " 'SupMar': [23, 24],\n",
       " 'SupTemp': [16, 17, 20, 21, 22],\n",
       " 'InfTemp': [33, 34, 35],\n",
       " 'ParaHPC': [37, 38],\n",
       " 'OciTemp': [39, 40],\n",
       " 'TempPole': [41, 42]}"
      ]
     },
     "execution_count": 3,
     "metadata": {},
     "output_type": "execute_result"
    }
   ],
   "source": [
    "# get inverse mapping\n",
    "#inv_map = {v: k for k, v in dictChannelLabel.items()} # this doesn't work for multiple values \n",
    "\n",
    "#dictChannelLabel.keys()\n",
    "#dictChannelLabel.values()\n",
    "\n",
    "dictLabelChannel = dict()\n",
    "for k in dictChannelLabel:\n",
    "    v = dictChannelLabel[k]\n",
    "    \n",
    "    dictLabelChannel[v] = dictLabelChannel.get(v, [])\n",
    "    dictLabelChannel[v].append(k)\n",
    "    \n",
    "dictLabelChannel"
   ]
  },
  {
   "cell_type": "code",
   "execution_count": 4,
   "metadata": {},
   "outputs": [
    {
     "name": "stdout",
     "output_type": "stream",
     "text": [
      "1\n",
      "2\n",
      "3\n",
      "4\n"
     ]
    }
   ],
   "source": [
    "# to use\n",
    "for ch in dictLabelChannel['MidFr']:\n",
    "    print(ch)"
   ]
  },
  {
   "cell_type": "code",
   "execution_count": 8,
   "metadata": {},
   "outputs": [
    {
     "name": "stdout",
     "output_type": "stream",
     "text": [
      "dict_keys(['MidFr', 'SupFr', 'Limb', 'HPC', 'MidTemp', 'PreCent', 'PostCent', 'SupMar', 'SupTemp', 'InfTemp', 'ParaHPC', 'OciTemp', 'TempPole'])\n"
     ]
    }
   ],
   "source": [
    "labels = dictLabelChannel.keys()\n",
    "print(labels)"
   ]
  },
  {
   "cell_type": "code",
   "execution_count": null,
   "metadata": {},
   "outputs": [],
   "source": []
  }
 ],
 "metadata": {
  "kernelspec": {
   "display_name": "Python 3",
   "language": "python",
   "name": "python3"
  },
  "language_info": {
   "codemirror_mode": {
    "name": "ipython",
    "version": 3
   },
   "file_extension": ".py",
   "mimetype": "text/x-python",
   "name": "python",
   "nbconvert_exporter": "python",
   "pygments_lexer": "ipython3",
   "version": "3.6.4"
  }
 },
 "nbformat": 4,
 "nbformat_minor": 2
}
